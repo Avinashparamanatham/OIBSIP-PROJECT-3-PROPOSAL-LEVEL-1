{
 "cells": [
  {
   "cell_type": "markdown",
   "id": "f5c9e55a-a8f3-46b0-8f79-6584b4eb6a2b",
   "metadata": {},
   "source": [
    "PROJECT 3 PROPOSAL LEVEL 1"
   ]
  },
  {
   "cell_type": "code",
   "execution_count": null,
   "id": "b60f4f50-b262-4bf2-ac75-f4cce77da64b",
   "metadata": {},
   "outputs": [],
   "source": []
  },
  {
   "cell_type": "code",
   "execution_count": 1,
   "id": "d2c6fca2-5bd2-403f-8bb0-a3e7fa99e882",
   "metadata": {},
   "outputs": [],
   "source": [
    "import pandas as pd\n",
    "import numpy as np\n",
    "import matplotlib.pyplot as plt\n",
    "import seaborn as sns\n",
    "from datetime import datetime\n",
    "\n",
    "df = pd.read_csv('AB_NYC_2019.csv')"
   ]
  },
  {
   "cell_type": "code",
   "execution_count": 2,
   "id": "0117cd8b-943e-429c-b4d1-47e84d07aee3",
   "metadata": {},
   "outputs": [
    {
     "name": "stdout",
     "output_type": "stream",
     "text": [
      "Initial Dataset Shape: (48895, 16)\n",
      "\n",
      "Initial Data Info:\n",
      "<class 'pandas.core.frame.DataFrame'>\n",
      "RangeIndex: 48895 entries, 0 to 48894\n",
      "Data columns (total 16 columns):\n",
      " #   Column                          Non-Null Count  Dtype  \n",
      "---  ------                          --------------  -----  \n",
      " 0   id                              48895 non-null  int64  \n",
      " 1   name                            48879 non-null  object \n",
      " 2   host_id                         48895 non-null  int64  \n",
      " 3   host_name                       48874 non-null  object \n",
      " 4   neighbourhood_group             48895 non-null  object \n",
      " 5   neighbourhood                   48895 non-null  object \n",
      " 6   latitude                        48895 non-null  float64\n",
      " 7   longitude                       48895 non-null  float64\n",
      " 8   room_type                       48895 non-null  object \n",
      " 9   price                           48895 non-null  int64  \n",
      " 10  minimum_nights                  48895 non-null  int64  \n",
      " 11  number_of_reviews               48895 non-null  int64  \n",
      " 12  last_review                     38843 non-null  object \n",
      " 13  reviews_per_month               38843 non-null  float64\n",
      " 14  calculated_host_listings_count  48895 non-null  int64  \n",
      " 15  availability_365                48895 non-null  int64  \n",
      "dtypes: float64(3), int64(7), object(6)\n",
      "memory usage: 6.0+ MB\n",
      "None\n",
      "\n",
      "Initial Missing Values:\n",
      "id                                    0\n",
      "name                                 16\n",
      "host_id                               0\n",
      "host_name                            21\n",
      "neighbourhood_group                   0\n",
      "neighbourhood                         0\n",
      "latitude                              0\n",
      "longitude                             0\n",
      "room_type                             0\n",
      "price                                 0\n",
      "minimum_nights                        0\n",
      "number_of_reviews                     0\n",
      "last_review                       10052\n",
      "reviews_per_month                 10052\n",
      "calculated_host_listings_count        0\n",
      "availability_365                      0\n",
      "dtype: int64\n"
     ]
    }
   ],
   "source": [
    "print(\"Initial Dataset Shape:\", df.shape)\n",
    "print(\"\\nInitial Data Info:\")\n",
    "print(df.info())\n",
    "print(\"\\nInitial Missing Values:\")\n",
    "print(df.isnull().sum())"
   ]
  },
  {
   "cell_type": "code",
   "execution_count": 3,
   "id": "ec7f2914-eaf0-45b6-b0df-a7647d51b077",
   "metadata": {},
   "outputs": [
    {
     "name": "stdout",
     "output_type": "stream",
     "text": [
      "\n",
      "Duplicate Rows: 0\n",
      "Shape after removing duplicates: (48895, 16)\n"
     ]
    }
   ],
   "source": [
    "print(\"\\nDuplicate Rows:\", df.duplicated().sum())\n",
    "df = df.drop_duplicates()\n",
    "print(\"Shape after removing duplicates:\", df.shape)"
   ]
  },
  {
   "cell_type": "code",
   "execution_count": 4,
   "id": "56d2aa2b-459e-4ab8-9073-4cd88676b733",
   "metadata": {},
   "outputs": [],
   "source": [
    "df['last_review'] = pd.to_datetime(df['last_review'], errors='coerce')\n",
    "\n",
    "numeric_columns = ['price', 'minimum_nights', 'number_of_reviews', \n",
    "                  'reviews_per_month', 'calculated_host_listings_count', \n",
    "                  'availability_365']\n",
    "\n",
    "for col in numeric_columns:\n",
    "    median_value = df[col].median()\n",
    "    df[col] = df[col].fillna(median_value)\n",
    "\n",
    "categorical_columns = ['name', 'host_name', 'neighbourhood_group', \n",
    "                      'neighbourhood', 'room_type']\n",
    "\n",
    "for col in categorical_columns:\n",
    "    mode_value = df[col].mode()[0]\n",
    "    df[col] = df[col].fillna(mode_value)"
   ]
  },
  {
   "cell_type": "code",
   "execution_count": 5,
   "id": "927e10b2-fe7f-48dc-b108-d375f9a82e40",
   "metadata": {},
   "outputs": [],
   "source": [
    "df['price'] = df['price'].astype(str).str.replace('$', '').str.replace(',', '').astype(float)\n",
    "\n",
    "df['latitude'] = pd.to_numeric(df['latitude'], errors='coerce')\n",
    "df['longitude'] = pd.to_numeric(df['longitude'], errors='coerce')"
   ]
  },
  {
   "cell_type": "code",
   "execution_count": null,
   "id": "d7a3e272-1d48-474d-b1c4-edcd4a77479d",
   "metadata": {},
   "outputs": [],
   "source": [
    "def detect_outliers(df, column):\n",
    "    Q1 = df[column].quantile(0.25)\n",
    "    Q3 = df[column].quantile(0.75)\n",
    "    IQR = Q3 - Q1\n",
    "    lower_bound = Q1 - 1.5 * IQR\n",
    "    upper_bound = Q3 + 1.5 * IQR\n",
    "    return lower_bound, upper_bound\n",
    "\n",
    "numeric_cols_for_outliers = ['price', 'minimum_nights', 'number_of_reviews']\n",
    "\n",
    "for col in numeric_cols_for_outliers:\n",
    "    lower_bound, upper_bound = detect_outliers(df, col)\n",
    "    # Create outlier plot\n",
    "    plt.figure(figsize=(10, 4))\n",
    "    plt.subplot(1, 2, 1)\n",
    "    sns.boxplot(y=df[col])\n",
    "    plt.title(f'Boxplot of {col} (Before)')\n",
    "\n",
    "    df[col] = df[col].clip(lower=lower_bound, upper=upper_bound)\n",
    "    plt.subplot(1, 2, 2)\n",
    "    sns.boxplot(y=df[col])\n",
    "    plt.title(f'Boxplot of {col} (After)')\n",
    "    plt.tight_layout()\n",
    "    plt.show()"
   ]
  },
  {
   "cell_type": "code",
   "execution_count": null,
   "id": "1bdda2e0-0c65-488a-8d57-6dd50b05a94e",
   "metadata": {},
   "outputs": [],
   "source": [
    "df['minimum_nights'] = df['minimum_nights'].abs()\n",
    "df['availability_365'] = df['availability_365'].clip(0, 365)\n",
    "df['reviews_per_month'] = df['reviews_per_month'].clip(lower=0)"
   ]
  },
  {
   "cell_type": "code",
   "execution_count": null,
   "id": "a25fc6a2-6a4a-47b1-8fcb-1ad00e4b77a6",
   "metadata": {},
   "outputs": [],
   "source": [
    "quality_report = pd.DataFrame({'missing_values': df.isnull().sum(),'unique_values': df.nunique(),'dtype': df.dtypes})\n",
    "print(\"\\nData Quality Report:\")\n",
    "print(quality_report)"
   ]
  },
  {
   "cell_type": "code",
   "execution_count": null,
   "id": "a7fc4c96-cd01-4a6a-b504-12b202e609f0",
   "metadata": {},
   "outputs": [],
   "source": [
    "print(\"\\nSummary Statistics:\")\n",
    "print(df.describe())"
   ]
  },
  {
   "cell_type": "code",
   "execution_count": null,
   "id": "7241779c-ee18-41bb-b05e-5a66a54419f5",
   "metadata": {},
   "outputs": [],
   "source": [
    "numeric_columns = df.select_dtypes(include=[np.number]).columns\n",
    "plt.figure(figsize=(15, 5))\n",
    "for i, col in enumerate(numeric_columns[:3], 1):\n",
    "    plt.subplot(1, 3, i)\n",
    "    sns.histplot(df[col], bins=30)\n",
    "    plt.title(f'Distribution of {col}')\n",
    "plt.tight_layout()\n",
    "plt.show()"
   ]
  },
  {
   "cell_type": "code",
   "execution_count": null,
   "id": "729974b2-f93b-4ff3-aed5-151e44e38769",
   "metadata": {},
   "outputs": [],
   "source": [
    "df.to_csv('cleaned_dataset.csv', index=False)\n",
    "print(\"\\nFinal Dataset Shape:\", df.shape)\n",
    "print(\"\\nFinal Data Info:\")\n",
    "print(df.info())\n",
    "\n",
    "cleaning_summary = {'initial_rows': len(df),'duplicates_removed': len(df) - len(df.drop_duplicates()),\n",
    "    'missing_values_filled': df.isnull().sum().sum(),'outliers_handled': sum(df[numeric_cols_for_outliers].notna().sum())}\n",
    "\n",
    "print(\"\\nCleaning Summary:\")\n",
    "for key, value in cleaning_summary.items():\n",
    "    print(f\"{key}: {value}\")"
   ]
  }
 ],
 "metadata": {
  "kernelspec": {
   "display_name": "Python 3 (ipykernel)",
   "language": "python",
   "name": "python3"
  },
  "language_info": {
   "codemirror_mode": {
    "name": "ipython",
    "version": 3
   },
   "file_extension": ".py",
   "mimetype": "text/x-python",
   "name": "python",
   "nbconvert_exporter": "python",
   "pygments_lexer": "ipython3",
   "version": "3.12.7"
  }
 },
 "nbformat": 4,
 "nbformat_minor": 5
}
